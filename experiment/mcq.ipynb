{
 "cells": [
  {
   "cell_type": "code",
   "execution_count": 1,
   "metadata": {},
   "outputs": [],
   "source": [
    "import os\n",
    "import pandas as pd\n",
    "import json\n",
    "import traceback"
   ]
  },
  {
   "cell_type": "code",
   "execution_count": 2,
   "metadata": {},
   "outputs": [],
   "source": [
    "from langchain.chat_models import ChatOpenAI "
   ]
  },
  {
   "cell_type": "code",
   "execution_count": 2,
   "metadata": {},
   "outputs": [
    {
     "data": {
      "text/plain": [
       "True"
      ]
     },
     "execution_count": 2,
     "metadata": {},
     "output_type": "execute_result"
    }
   ],
   "source": [
    "# load the env variables defined in local .env file\n",
    "from dotenv import load_dotenv\n",
    "load_dotenv()"
   ]
  },
  {
   "cell_type": "code",
   "execution_count": 85,
   "metadata": {},
   "outputs": [],
   "source": [
    "# load the env variable as defined in .env file\n",
    "My_KEY=os.getenv(\"OPENAI_API_KEY2\") # OPENAI_API_KEY\n"
   ]
  },
  {
   "cell_type": "code",
   "execution_count": 86,
   "metadata": {},
   "outputs": [],
   "source": [
    "# temperature value could be 0-2. 0 means non creative straightforward answer. 2 means completely creative answer\n",
    "llm=ChatOpenAI(openai_api_key=My_KEY,model_name=\"gpt-3.5-turbo\", temperature=0.5)"
   ]
  },
  {
   "cell_type": "code",
   "execution_count": 87,
   "metadata": {},
   "outputs": [],
   "source": [
    "from langchain.llms import OpenAI\n",
    "from langchain.prompts import PromptTemplate\n",
    "from langchain.chains import LLMChain\n",
    "from langchain.chains import SequentialChain\n",
    "from langchain.callbacks import get_openai_callback\n",
    "import PyPDF2"
   ]
  },
  {
   "cell_type": "code",
   "execution_count": 89,
   "metadata": {},
   "outputs": [],
   "source": [
    "RESPONSE_JSON = {\n",
    "    \"1\": {\n",
    "        \"mcq\": \"multiple choice question\",\n",
    "        \"options\": {\n",
    "            \"a\": \"choice here\",\n",
    "            \"b\": \"choice here\",\n",
    "            \"c\": \"choice here\",\n",
    "            \"d\": \"choice here\",\n",
    "        },\n",
    "        \"correct\": \"correct answer\",\n",
    "    },\n",
    "    \"2\": {\n",
    "        \"mcq\": \"multiple choice question\",\n",
    "        \"options\": {\n",
    "            \"a\": \"choice here\",\n",
    "            \"b\": \"choice here\",\n",
    "            \"c\": \"choice here\",\n",
    "            \"d\": \"choice here\",\n",
    "        },\n",
    "        \"correct\": \"correct answer\",\n",
    "    },\n",
    "    \"3\": {\n",
    "        \"mcq\": \"multiple choice question\",\n",
    "        \"options\": {\n",
    "            \"a\": \"choice here\",\n",
    "            \"b\": \"choice here\",\n",
    "            \"c\": \"choice here\",\n",
    "            \"d\": \"choice here\",\n",
    "        },\n",
    "        \"correct\": \"correct answer\",\n",
    "    },\n",
    "}"
   ]
  },
  {
   "cell_type": "code",
   "execution_count": 91,
   "metadata": {},
   "outputs": [],
   "source": [
    "Quiz_tmpl=\"\"\"\n",
    "Text:{text}\n",
    "You are an expert MCQ maker. Given the above text, it is your job to \\\n",
    "create a quiz  of {number} multiple choice questions for {subject} students in {tone} tone. \n",
    "Make sure the questions are not repeated and check all the questions to be conforming the text as well.\n",
    "Make sure to format your response like  RESPONSE_JSON below  and use it as a guide. \\\n",
    "Ensure to make {number} MCQs\n",
    "### RESPONSE_JSON\n",
    "{response_json}\n",
    "\n",
    "\"\"\""
   ]
  },
  {
   "cell_type": "code",
   "execution_count": 92,
   "metadata": {},
   "outputs": [],
   "source": [
    "quiz_generation_prompt = PromptTemplate(\n",
    "    input_variables=[\"text\", \"number\", \"subject\", \"tone\", \"response_json\"],\n",
    "    template=Quiz_tmpl\n",
    "    )"
   ]
  },
  {
   "cell_type": "code",
   "execution_count": 93,
   "metadata": {},
   "outputs": [],
   "source": [
    "quiz_chain=LLMChain(llm=llm, prompt=quiz_generation_prompt, output_key=\"quiz\", verbose=True)"
   ]
  },
  {
   "cell_type": "code",
   "execution_count": 94,
   "metadata": {},
   "outputs": [],
   "source": [
    "Quiz_Review_Tmpl=\"\"\"\n",
    "You are an expert english grammarian and writer. Given a Multiple Choice Quiz for {subject} students.\\\n",
    "You need to evaluate the complexity of the question and give a complete analysis of the quiz. Only use at max 50 words for complexity analysis. \n",
    "if the quiz is not at per with the cognitive and analytical abilities of the students,\\\n",
    "update the quiz questions which needs to be changed and change the tone such that it perfectly fits the student abilities\n",
    "Quiz_MCQs:\n",
    "{quiz}\n",
    "\n",
    "Check from an expert English Writer of the above quiz:\n",
    "\"\"\""
   ]
  },
  {
   "cell_type": "code",
   "execution_count": 95,
   "metadata": {},
   "outputs": [],
   "source": [
    "quiz_evaluation_prompt=PromptTemplate(input_variables=[\"subject\", \"quiz\"], template=Quiz_Review_Tmpl)"
   ]
  },
  {
   "cell_type": "code",
   "execution_count": 96,
   "metadata": {},
   "outputs": [],
   "source": [
    "review_chain=LLMChain(llm=llm, prompt=quiz_evaluation_prompt, output_key=\"review\", verbose=True)"
   ]
  },
  {
   "cell_type": "code",
   "execution_count": 98,
   "metadata": {},
   "outputs": [],
   "source": [
    "generate_evaluate_chain=SequentialChain(chains=[quiz_chain, review_chain], input_variables=[\"text\", \"number\", \"subject\", \"tone\", \"response_json\"],\n",
    "                                        output_variables=[\"quiz\", \"review\"], verbose=True,)"
   ]
  },
  {
   "cell_type": "code",
   "execution_count": 99,
   "metadata": {},
   "outputs": [],
   "source": [
    "file_path=r\"C:\\genaipjts\\mcqgen\\data.txt\""
   ]
  },
  {
   "cell_type": "code",
   "execution_count": 33,
   "metadata": {},
   "outputs": [
    {
     "data": {
      "text/plain": [
       "'C:\\\\genaipjts\\\\mcqgen\\\\data.txt'"
      ]
     },
     "execution_count": 33,
     "metadata": {},
     "output_type": "execute_result"
    }
   ],
   "source": [
    "file_path"
   ]
  },
  {
   "cell_type": "code",
   "execution_count": 100,
   "metadata": {},
   "outputs": [],
   "source": [
    "with open(file_path, 'r') as file:\n",
    "    TEXT = file.read()"
   ]
  },
  {
   "cell_type": "code",
   "execution_count": 35,
   "metadata": {},
   "outputs": [
    {
     "name": "stdout",
     "output_type": "stream",
     "text": [
      "The Telecom Regulatory Authority of India released a consultation paper on “Inputs for Formulation of National Broadcasting Policy, 2024”.[28]  In September 2023, TRAI had released a pre-consultation paper seeking inputs for formulating a National Broadcasting Policy.[29]  The Ministry of Information and Broadcasting had also released a draft Broadcasting Services (Regulation) Bill, 2023 for comments in November 2023.[30]  TRAI has sought views on key issues such as:\n",
      "\n",
      "Growth of the broadcasting sector:  As per TRAI, there are approximately 100 million homes without television.  It has invited suggestions on strategies for making TV services more affordable.  The consultation paper also observes a heavy reliance on imported equipment in the sector.  This includes imported devices and components for assembly. Hence, it has sought inputs on promoting R&D and domestic manufacturing. \n",
      "\n",
      "India as a global content hub:  The paper cites various methods used by other countries to promote local content.  These include: (i) France’s requirement of 40% of television shows broadcast to be produced locally, and (ii) Brazil’s local content quota of 210 minutes in prime time (content produced by independent Brazilian producers).  Comments have been invited on measures to promote content produced in India. \n",
      "\n",
      "Policy and regulatory changes:  Comments have been invited on regulatory changes to grow the sector and ensure ease of compliance.  The paper gives the example of infrastructure sharing.  As per TRAI, since the two sectors are converging in technology, they can share infrastructure.  For instance, Prasar Bharti infrastructure is currently shared with radio operators for co-location.  Comments have also been invited on ensuring a healthy competitive environment between existing and emerging technologies. \n",
      "\n",
      "Piracy and content security:  The paper notes that piracy causes an annual loss of about Rs 20,000 crore to the film industry.  Thus, TRAI has sought comments on additional measures to be taken to combat piracy and to enhance content security.  This is to detect and prevent the unauthorised distribution of content.\n"
     ]
    }
   ],
   "source": [
    "print(TEXT)"
   ]
  },
  {
   "cell_type": "code",
   "execution_count": 101,
   "metadata": {},
   "outputs": [
    {
     "data": {
      "text/plain": [
       "'{\"1\": {\"mcq\": \"multiple choice question\", \"options\": {\"a\": \"choice here\", \"b\": \"choice here\", \"c\": \"choice here\", \"d\": \"choice here\"}, \"correct\": \"correct answer\"}, \"2\": {\"mcq\": \"multiple choice question\", \"options\": {\"a\": \"choice here\", \"b\": \"choice here\", \"c\": \"choice here\", \"d\": \"choice here\"}, \"correct\": \"correct answer\"}, \"3\": {\"mcq\": \"multiple choice question\", \"options\": {\"a\": \"choice here\", \"b\": \"choice here\", \"c\": \"choice here\", \"d\": \"choice here\"}, \"correct\": \"correct answer\"}}'"
      ]
     },
     "execution_count": 101,
     "metadata": {},
     "output_type": "execute_result"
    }
   ],
   "source": [
    "# Serialize the Python dictionary into a JSON-formatted string\n",
    "json.dumps(RESPONSE_JSON)"
   ]
  },
  {
   "cell_type": "code",
   "execution_count": 102,
   "metadata": {},
   "outputs": [],
   "source": [
    "NUMBER=2 \n",
    "SUBJECT=\"public policy\"\n",
    "TONE=\"simple\""
   ]
  },
  {
   "cell_type": "code",
   "execution_count": 103,
   "metadata": {},
   "outputs": [
    {
     "name": "stdout",
     "output_type": "stream",
     "text": [
      "\n",
      "\n",
      "\u001b[1m> Entering new SequentialChain chain...\u001b[0m\n",
      "\n",
      "\n",
      "\u001b[1m> Entering new LLMChain chain...\u001b[0m\n",
      "Prompt after formatting:\n",
      "\u001b[32;1m\u001b[1;3m\n",
      "Text:The Telecom Regulatory Authority of India released a consultation paper on “Inputs for Formulation of National Broadcasting Policy, 2024”.[28]  In September 2023, TRAI had released a pre-consultation paper seeking inputs for formulating a National Broadcasting Policy.[29]  The Ministry of Information and Broadcasting had also released a draft Broadcasting Services (Regulation) Bill, 2023 for comments in November 2023.[30]  TRAI has sought views on key issues such as:\n",
      "\n",
      "Growth of the broadcasting sector:  As per TRAI, there are approximately 100 million homes without television.  It has invited suggestions on strategies for making TV services more affordable.  The consultation paper also observes a heavy reliance on imported equipment in the sector.  This includes imported devices and components for assembly. Hence, it has sought inputs on promoting R&D and domestic manufacturing. \n",
      "\n",
      "India as a global content hub:  The paper cites various methods used by other countries to promote local content.  These include: (i) France’s requirement of 40% of television shows broadcast to be produced locally, and (ii) Brazil’s local content quota of 210 minutes in prime time (content produced by independent Brazilian producers).  Comments have been invited on measures to promote content produced in India. \n",
      "\n",
      "Policy and regulatory changes:  Comments have been invited on regulatory changes to grow the sector and ensure ease of compliance.  The paper gives the example of infrastructure sharing.  As per TRAI, since the two sectors are converging in technology, they can share infrastructure.  For instance, Prasar Bharti infrastructure is currently shared with radio operators for co-location.  Comments have also been invited on ensuring a healthy competitive environment between existing and emerging technologies. \n",
      "\n",
      "Piracy and content security:  The paper notes that piracy causes an annual loss of about Rs 20,000 crore to the film industry.  Thus, TRAI has sought comments on additional measures to be taken to combat piracy and to enhance content security.  This is to detect and prevent the unauthorised distribution of content.\n",
      "You are an expert MCQ maker. Given the above text, it is your job to create a quiz  of 2 multiple choice questions for public policy students in simple tone. \n",
      "Make sure the questions are not repeated and check all the questions to be conforming the text as well.\n",
      "Make sure to format your response like  RESPONSE_JSON below  and use it as a guide. Ensure to make 2 MCQs\n",
      "### RESPONSE_JSON\n",
      "{\"1\": {\"mcq\": \"multiple choice question\", \"options\": {\"a\": \"choice here\", \"b\": \"choice here\", \"c\": \"choice here\", \"d\": \"choice here\"}, \"correct\": \"correct answer\"}, \"2\": {\"mcq\": \"multiple choice question\", \"options\": {\"a\": \"choice here\", \"b\": \"choice here\", \"c\": \"choice here\", \"d\": \"choice here\"}, \"correct\": \"correct answer\"}, \"3\": {\"mcq\": \"multiple choice question\", \"options\": {\"a\": \"choice here\", \"b\": \"choice here\", \"c\": \"choice here\", \"d\": \"choice here\"}, \"correct\": \"correct answer\"}}\n",
      "\n",
      "\u001b[0m\n",
      "\n",
      "\u001b[1m> Finished chain.\u001b[0m\n",
      "\n",
      "\n",
      "\u001b[1m> Entering new LLMChain chain...\u001b[0m\n",
      "Prompt after formatting:\n",
      "\u001b[32;1m\u001b[1;3m\n",
      "You are an expert english grammarian and writer. Given a Multiple Choice Quiz for public policy students.You need to evaluate the complexity of the question and give a complete analysis of the quiz. Only use at max 50 words for complexity analysis. \n",
      "if the quiz is not at per with the cognitive and analytical abilities of the students,update the quiz questions which needs to be changed and change the tone such that it perfectly fits the student abilities\n",
      "Quiz_MCQs:\n",
      "\n",
      "{\n",
      "    \"1\": {\n",
      "        \"mcq\": \"What is one of the key issues discussed in the consultation paper on National Broadcasting Policy, 2024?\",\n",
      "        \"options\": {\n",
      "            \"a\": \"Promoting foreign equipment imports\",\n",
      "            \"b\": \"Strategies for making TV services more affordable\",\n",
      "            \"c\": \"Reducing local content quotas\",\n",
      "            \"d\": \"Encouraging piracy in the film industry\"\n",
      "        },\n",
      "        \"correct\": \"b\"\n",
      "    },\n",
      "    \"2\": {\n",
      "        \"mcq\": \"What is one of the measures suggested to combat piracy and enhance content security?\",\n",
      "        \"options\": {\n",
      "            \"a\": \"Increasing import of pirated content\",\n",
      "            \"b\": \"Promoting unauthorised distribution of content\",\n",
      "            \"c\": \"Taking additional measures to combat piracy\",\n",
      "            \"d\": \"Ignoring the issue of content security\"\n",
      "        },\n",
      "        \"correct\": \"c\"\n",
      "    }\n",
      "}\n",
      "\n",
      "Check from an expert English Writer of the above quiz:\n",
      "\u001b[0m\n",
      "\n",
      "\u001b[1m> Finished chain.\u001b[0m\n",
      "\n",
      "\u001b[1m> Finished chain.\u001b[0m\n"
     ]
    }
   ],
   "source": [
    "#https://python.langchain.com/docs/modules/model_io/llms/token_usage_tracking\n",
    "\n",
    "#How to setup Token Usage Tracking in LangChain\n",
    "with get_openai_callback() as cb:\n",
    "    response=generate_evaluate_chain(\n",
    "        {\n",
    "            \"text\": TEXT,\n",
    "            \"number\": NUMBER,\n",
    "            \"subject\":SUBJECT,\n",
    "            \"tone\": TONE,\n",
    "            \"response_json\": json.dumps(RESPONSE_JSON)\n",
    "        }\n",
    "        )"
   ]
  },
  {
   "cell_type": "code",
   "execution_count": 104,
   "metadata": {},
   "outputs": [
    {
     "name": "stdout",
     "output_type": "stream",
     "text": [
      "Total Tokens:1222\n",
      "Prompt Tokens:978\n",
      "Completion Tokens:244\n",
      "Total Cost:0.001955\n"
     ]
    }
   ],
   "source": [
    "print(f\"Total Tokens:{cb.total_tokens}\")\n",
    "print(f\"Prompt Tokens:{cb.prompt_tokens}\")\n",
    "print(f\"Completion Tokens:{cb.completion_tokens}\")\n",
    "print(f\"Total Cost:{cb.total_cost}\")"
   ]
  },
  {
   "cell_type": "code",
   "execution_count": 106,
   "metadata": {},
   "outputs": [
    {
     "data": {
      "text/plain": [
       "{'text': 'The Telecom Regulatory Authority of India released a consultation paper on “Inputs for Formulation of National Broadcasting Policy, 2024”.[28]  In September 2023, TRAI had released a pre-consultation paper seeking inputs for formulating a National Broadcasting Policy.[29]  The Ministry of Information and Broadcasting had also released a draft Broadcasting Services (Regulation) Bill, 2023 for comments in November 2023.[30]  TRAI has sought views on key issues such as:\\n\\nGrowth of the broadcasting sector:  As per TRAI, there are approximately 100 million homes without television.  It has invited suggestions on strategies for making TV services more affordable.  The consultation paper also observes a heavy reliance on imported equipment in the sector.  This includes imported devices and components for assembly. Hence, it has sought inputs on promoting R&D and domestic manufacturing. \\n\\nIndia as a global content hub:  The paper cites various methods used by other countries to promote local content.  These include: (i) France’s requirement of 40% of television shows broadcast to be produced locally, and (ii) Brazil’s local content quota of 210 minutes in prime time (content produced by independent Brazilian producers).  Comments have been invited on measures to promote content produced in India. \\n\\nPolicy and regulatory changes:  Comments have been invited on regulatory changes to grow the sector and ensure ease of compliance.  The paper gives the example of infrastructure sharing.  As per TRAI, since the two sectors are converging in technology, they can share infrastructure.  For instance, Prasar Bharti infrastructure is currently shared with radio operators for co-location.  Comments have also been invited on ensuring a healthy competitive environment between existing and emerging technologies. \\n\\nPiracy and content security:  The paper notes that piracy causes an annual loss of about Rs 20,000 crore to the film industry.  Thus, TRAI has sought comments on additional measures to be taken to combat piracy and to enhance content security.  This is to detect and prevent the unauthorised distribution of content.',\n",
       " 'number': 2,\n",
       " 'subject': 'public policy',\n",
       " 'tone': 'simple',\n",
       " 'response_json': '{\"1\": {\"mcq\": \"multiple choice question\", \"options\": {\"a\": \"choice here\", \"b\": \"choice here\", \"c\": \"choice here\", \"d\": \"choice here\"}, \"correct\": \"correct answer\"}, \"2\": {\"mcq\": \"multiple choice question\", \"options\": {\"a\": \"choice here\", \"b\": \"choice here\", \"c\": \"choice here\", \"d\": \"choice here\"}, \"correct\": \"correct answer\"}, \"3\": {\"mcq\": \"multiple choice question\", \"options\": {\"a\": \"choice here\", \"b\": \"choice here\", \"c\": \"choice here\", \"d\": \"choice here\"}, \"correct\": \"correct answer\"}}',\n",
       " 'quiz': '\\n{\\n    \"1\": {\\n        \"mcq\": \"What is one of the key issues discussed in the consultation paper on National Broadcasting Policy, 2024?\",\\n        \"options\": {\\n            \"a\": \"Promoting foreign equipment imports\",\\n            \"b\": \"Strategies for making TV services more affordable\",\\n            \"c\": \"Reducing local content quotas\",\\n            \"d\": \"Encouraging piracy in the film industry\"\\n        },\\n        \"correct\": \"b\"\\n    },\\n    \"2\": {\\n        \"mcq\": \"What is one of the measures suggested to combat piracy and enhance content security?\",\\n        \"options\": {\\n            \"a\": \"Increasing import of pirated content\",\\n            \"b\": \"Promoting unauthorised distribution of content\",\\n            \"c\": \"Taking additional measures to combat piracy\",\\n            \"d\": \"Ignoring the issue of content security\"\\n        },\\n        \"correct\": \"c\"\\n    }\\n}',\n",
       " 'review': 'The complexity of the quiz questions is appropriate for public policy students as it requires understanding of key issues in broadcasting policy and measures to combat piracy. However, the tone could be made more student-friendly by simplifying the language and providing more context for the questions.'}"
      ]
     },
     "execution_count": 106,
     "metadata": {},
     "output_type": "execute_result"
    }
   ],
   "source": [
    "response"
   ]
  },
  {
   "cell_type": "code",
   "execution_count": 108,
   "metadata": {},
   "outputs": [
    {
     "name": "stdout",
     "output_type": "stream",
     "text": [
      "\n",
      "{\n",
      "    \"1\": {\n",
      "        \"mcq\": \"What is one of the key issues discussed in the consultation paper on National Broadcasting Policy, 2024?\",\n",
      "        \"options\": {\n",
      "            \"a\": \"Promoting foreign equipment imports\",\n",
      "            \"b\": \"Strategies for making TV services more affordable\",\n",
      "            \"c\": \"Reducing local content quotas\",\n",
      "            \"d\": \"Encouraging piracy in the film industry\"\n",
      "        },\n",
      "        \"correct\": \"b\"\n",
      "    },\n",
      "    \"2\": {\n",
      "        \"mcq\": \"What is one of the measures suggested to combat piracy and enhance content security?\",\n",
      "        \"options\": {\n",
      "            \"a\": \"Increasing import of pirated content\",\n",
      "            \"b\": \"Promoting unauthorised distribution of content\",\n",
      "            \"c\": \"Taking additional measures to combat piracy\",\n",
      "            \"d\": \"Ignoring the issue of content security\"\n",
      "        },\n",
      "        \"correct\": \"c\"\n",
      "    }\n",
      "}\n"
     ]
    }
   ],
   "source": [
    "print(response.get(\"quiz\"))"
   ]
  },
  {
   "cell_type": "code",
   "execution_count": 109,
   "metadata": {},
   "outputs": [],
   "source": [
    "quiz=json.loads(response.get(\"quiz\"))"
   ]
  },
  {
   "cell_type": "code",
   "execution_count": 110,
   "metadata": {},
   "outputs": [
    {
     "data": {
      "text/plain": [
       "{'1': {'mcq': 'What is one of the key issues discussed in the consultation paper on National Broadcasting Policy, 2024?',\n",
       "  'options': {'a': 'Promoting foreign equipment imports',\n",
       "   'b': 'Strategies for making TV services more affordable',\n",
       "   'c': 'Reducing local content quotas',\n",
       "   'd': 'Encouraging piracy in the film industry'},\n",
       "  'correct': 'b'},\n",
       " '2': {'mcq': 'What is one of the measures suggested to combat piracy and enhance content security?',\n",
       "  'options': {'a': 'Increasing import of pirated content',\n",
       "   'b': 'Promoting unauthorised distribution of content',\n",
       "   'c': 'Taking additional measures to combat piracy',\n",
       "   'd': 'Ignoring the issue of content security'},\n",
       "  'correct': 'c'}}"
      ]
     },
     "execution_count": 110,
     "metadata": {},
     "output_type": "execute_result"
    }
   ],
   "source": [
    "quiz"
   ]
  },
  {
   "cell_type": "code",
   "execution_count": 112,
   "metadata": {},
   "outputs": [
    {
     "name": "stdout",
     "output_type": "stream",
     "text": [
      "dict_items([('1', {'mcq': 'What is one of the key issues discussed in the consultation paper on National Broadcasting Policy, 2024?', 'options': {'a': 'Promoting foreign equipment imports', 'b': 'Strategies for making TV services more affordable', 'c': 'Reducing local content quotas', 'd': 'Encouraging piracy in the film industry'}, 'correct': 'b'}), ('2', {'mcq': 'What is one of the measures suggested to combat piracy and enhance content security?', 'options': {'a': 'Increasing import of pirated content', 'b': 'Promoting unauthorised distribution of content', 'c': 'Taking additional measures to combat piracy', 'd': 'Ignoring the issue of content security'}, 'correct': 'c'})])\n"
     ]
    }
   ],
   "source": [
    "print(quiz.items())"
   ]
  },
  {
   "cell_type": "code",
   "execution_count": 115,
   "metadata": {},
   "outputs": [
    {
     "data": {
      "text/plain": [
       "'deepak <> kumar <> nema'"
      ]
     },
     "execution_count": 115,
     "metadata": {},
     "output_type": "execute_result"
    }
   ],
   "source": [
    "\" <> \".join([\"deepak\",\"kumar\",\"nema\"])"
   ]
  },
  {
   "cell_type": "code",
   "execution_count": 117,
   "metadata": {},
   "outputs": [
    {
     "name": "stdout",
     "output_type": "stream",
     "text": [
      "key - 1\n",
      "value - {'mcq': 'What is one of the key issues discussed in the consultation paper on National Broadcasting Policy, 2024?', 'options': {'a': 'Promoting foreign equipment imports', 'b': 'Strategies for making TV services more affordable', 'c': 'Reducing local content quotas', 'd': 'Encouraging piracy in the film industry'}, 'correct': 'b'}\n",
      "mcq - What is one of the key issues discussed in the consultation paper on National Broadcasting Policy, 2024?\n",
      "correct - b\n",
      "options - a: Promoting foreign equipment imports | b: Strategies for making TV services more affordable | c: Reducing local content quotas | d: Encouraging piracy in the film industry\n",
      "key - 2\n",
      "value - {'mcq': 'What is one of the measures suggested to combat piracy and enhance content security?', 'options': {'a': 'Increasing import of pirated content', 'b': 'Promoting unauthorised distribution of content', 'c': 'Taking additional measures to combat piracy', 'd': 'Ignoring the issue of content security'}, 'correct': 'c'}\n",
      "mcq - What is one of the measures suggested to combat piracy and enhance content security?\n",
      "correct - c\n",
      "options - a: Increasing import of pirated content | b: Promoting unauthorised distribution of content | c: Taking additional measures to combat piracy | d: Ignoring the issue of content security\n"
     ]
    }
   ],
   "source": [
    "quiz_table_data = []\n",
    "for key, value in quiz.items():\n",
    "    print(f\"key - {key}\")\n",
    "    print(f\"value - {value}\")\n",
    "   \n",
    "    mcq = value[\"mcq\"]\n",
    "    options = \" | \".join(\n",
    "        [\n",
    "            f\"{option}: {option_value}\"\n",
    "            for option, option_value in value[\"options\"].items()\n",
    "        ]\n",
    "    )\n",
    "    correct = value[\"correct\"]\n",
    "\n",
    "    print(f\"mcq - {mcq}\")\n",
    "    print(f\"correct - {correct}\")\n",
    "    print(f\"options - {options}\")  \n",
    "\n",
    "    quiz_table_data.append({\"MCQ\": mcq, \"Choices\": options, \"Correct\": correct})"
   ]
  },
  {
   "cell_type": "code",
   "execution_count": 119,
   "metadata": {},
   "outputs": [
    {
     "data": {
      "text/plain": [
       "[{'MCQ': 'What is one of the key issues discussed in the consultation paper on National Broadcasting Policy, 2024?',\n",
       "  'Choices': 'a: Promoting foreign equipment imports | b: Strategies for making TV services more affordable | c: Reducing local content quotas | d: Encouraging piracy in the film industry',\n",
       "  'Correct': 'b'},\n",
       " {'MCQ': 'What is one of the measures suggested to combat piracy and enhance content security?',\n",
       "  'Choices': 'a: Increasing import of pirated content | b: Promoting unauthorised distribution of content | c: Taking additional measures to combat piracy | d: Ignoring the issue of content security',\n",
       "  'Correct': 'c'}]"
      ]
     },
     "execution_count": 119,
     "metadata": {},
     "output_type": "execute_result"
    }
   ],
   "source": [
    "quiz_table_data"
   ]
  },
  {
   "cell_type": "code",
   "execution_count": 121,
   "metadata": {},
   "outputs": [
    {
     "data": {
      "text/html": [
       "<div>\n",
       "<style scoped>\n",
       "    .dataframe tbody tr th:only-of-type {\n",
       "        vertical-align: middle;\n",
       "    }\n",
       "\n",
       "    .dataframe tbody tr th {\n",
       "        vertical-align: top;\n",
       "    }\n",
       "\n",
       "    .dataframe thead th {\n",
       "        text-align: right;\n",
       "    }\n",
       "</style>\n",
       "<table border=\"1\" class=\"dataframe\">\n",
       "  <thead>\n",
       "    <tr style=\"text-align: right;\">\n",
       "      <th></th>\n",
       "      <th>MCQ</th>\n",
       "      <th>Choices</th>\n",
       "      <th>Correct</th>\n",
       "    </tr>\n",
       "  </thead>\n",
       "  <tbody>\n",
       "    <tr>\n",
       "      <th>0</th>\n",
       "      <td>What is one of the key issues discussed in the...</td>\n",
       "      <td>a: Promoting foreign equipment imports | b: St...</td>\n",
       "      <td>b</td>\n",
       "    </tr>\n",
       "    <tr>\n",
       "      <th>1</th>\n",
       "      <td>What is one of the measures suggested to comba...</td>\n",
       "      <td>a: Increasing import of pirated content | b: P...</td>\n",
       "      <td>c</td>\n",
       "    </tr>\n",
       "  </tbody>\n",
       "</table>\n",
       "</div>"
      ],
      "text/plain": [
       "                                                 MCQ  \\\n",
       "0  What is one of the key issues discussed in the...   \n",
       "1  What is one of the measures suggested to comba...   \n",
       "\n",
       "                                             Choices Correct  \n",
       "0  a: Promoting foreign equipment imports | b: St...       b  \n",
       "1  a: Increasing import of pirated content | b: P...       c  "
      ]
     },
     "execution_count": 121,
     "metadata": {},
     "output_type": "execute_result"
    }
   ],
   "source": [
    "quiz_df = pd.DataFrame(quiz_table_data)\n",
    "\n",
    "quiz_df"
   ]
  },
  {
   "cell_type": "code",
   "execution_count": 122,
   "metadata": {},
   "outputs": [],
   "source": [
    "quiz_df.to_csv(\"mcq_quiz.csv\",index=False)"
   ]
  },
  {
   "cell_type": "code",
   "execution_count": 123,
   "metadata": {},
   "outputs": [],
   "source": [
    "# for experimentation with index true\n",
    "\n",
    "quiz_df.to_csv(\"mcq_quiz2.csv\",index=True)"
   ]
  },
  {
   "cell_type": "code",
   "execution_count": 124,
   "metadata": {},
   "outputs": [
    {
     "data": {
      "text/plain": [
       "'05_11_2024_12_48_58'"
      ]
     },
     "execution_count": 124,
     "metadata": {},
     "output_type": "execute_result"
    }
   ],
   "source": [
    "from datetime import datetime\n",
    "datetime.now().strftime('%m_%d_%Y_%H_%M_%S')"
   ]
  },
  {
   "cell_type": "code",
   "execution_count": 1,
   "metadata": {},
   "outputs": [
    {
     "name": "stdout",
     "output_type": "stream",
     "text": [
      "c:\\genaipjts\\mcqgen\\experiment\n"
     ]
    }
   ],
   "source": [
    "import os\n",
    "print(os.getcwd())"
   ]
  }
 ],
 "metadata": {
  "kernelspec": {
   "display_name": "Python 3",
   "language": "python",
   "name": "python3"
  },
  "language_info": {
   "codemirror_mode": {
    "name": "ipython",
    "version": 3
   },
   "file_extension": ".py",
   "mimetype": "text/x-python",
   "name": "python",
   "nbconvert_exporter": "python",
   "pygments_lexer": "ipython3",
   "version": "3.8.19"
  }
 },
 "nbformat": 4,
 "nbformat_minor": 2
}
